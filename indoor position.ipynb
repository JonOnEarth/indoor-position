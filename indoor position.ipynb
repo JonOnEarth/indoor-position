{
 "cells": [
  {
   "cell_type": "code",
   "execution_count": 16,
   "metadata": {},
   "outputs": [],
   "source": [
    "# 导入数据\n",
    "import numpy as np\n",
    "import pandas as pd\n",
    "\n",
    "path = 'C:/Users/mys12/Desktop/northeastern/summer2018/data_Robust_Fingerprinting-master/DISTRIBUTED_OPENSOURCE/FINGERPRINTING_DB'\n",
    "train_rss = pd.read_csv(path + '/Training_rss_21Aug17.csv')\n",
    "train_coord = pd.read_csv(path + '/Training_coordinates_21Aug17.csv')\n",
    "\n",
    "test_rss = pd.read_csv(path + '/Test_rss_21Aug17.csv')\n",
    "test_coord = pd.read_csv(path + '/Test_coordinates_21Aug17.csv')\n",
    "\n",
    "# trace, rss = test_coord['trace'][0:1000, :], test_rss['rss'][0:1000, :]\n",
    "# del offline_data\n",
    "# del online_data"
   ]
  },
  {
   "cell_type": "code",
   "execution_count": 17,
   "metadata": {
    "scrolled": true
   },
   "outputs": [
    {
     "name": "stderr",
     "output_type": "stream",
     "text": [
      "C:\\software\\WinPython-64bit-3.6.2.0Qt5\\python-3.6.2.amd64\\lib\\site-packages\\ipykernel_launcher.py:1: DeprecationWarning: \n",
      ".ix is deprecated. Please use\n",
      ".loc for label based indexing or\n",
      ".iloc for positional indexing\n",
      "\n",
      "See the documentation here:\n",
      "http://pandas.pydata.org/pandas-docs/stable/indexing.html#ix-indexer-is-deprecated\n",
      "  \"\"\"Entry point for launching an IPython kernel.\n"
     ]
    },
    {
     "data": {
      "text/plain": [
       "100        100\n",
       "100.1      100\n",
       "100.2      100\n",
       "100.3      100\n",
       "100.4      100\n",
       "100.5      100\n",
       "100.6      100\n",
       "100.7      100\n",
       "100.8      100\n",
       "100.9      100\n",
       "100.10     100\n",
       "100.11     100\n",
       "100.12     100\n",
       "100.13     100\n",
       "100.14     100\n",
       "100.15     100\n",
       "100.16     100\n",
       "100.17     100\n",
       "100.18     100\n",
       "100.19     100\n",
       "100.20     100\n",
       "100.21     100\n",
       "100.22     100\n",
       "100.23     100\n",
       "100.24     100\n",
       "100.25     100\n",
       "100.26     100\n",
       "100.27     100\n",
       "100.28     100\n",
       "100.29     100\n",
       "          ... \n",
       "100.913    100\n",
       "100.914    100\n",
       "100.915    100\n",
       "100.916    100\n",
       "100.917    100\n",
       "100.918    100\n",
       "100.919    100\n",
       "100.920    100\n",
       "100.921    100\n",
       "100.922    100\n",
       "100.923    100\n",
       "100.924    100\n",
       "100.925    100\n",
       "100.926    100\n",
       "100.927    100\n",
       "100.928    100\n",
       "100.929    100\n",
       "-76.3      100\n",
       "100.930    100\n",
       "100.931    100\n",
       "100.932    100\n",
       "100.933    100\n",
       "100.934    100\n",
       "100.935    100\n",
       "100.936    100\n",
       "100.937    100\n",
       "100.938    100\n",
       "100.939    100\n",
       "100.940    100\n",
       "100.941    100\n",
       "Name: 0, Length: 992, dtype: int64"
      ]
     },
     "execution_count": 17,
     "metadata": {},
     "output_type": "execute_result"
    }
   ],
   "source": [
    "train_rss.ix[0]"
   ]
  },
  {
   "cell_type": "code",
   "execution_count": 18,
   "metadata": {
    "scrolled": true
   },
   "outputs": [
    {
     "data": {
      "text/html": [
       "<div>\n",
       "<style>\n",
       "    .dataframe thead tr:only-child th {\n",
       "        text-align: right;\n",
       "    }\n",
       "\n",
       "    .dataframe thead th {\n",
       "        text-align: left;\n",
       "    }\n",
       "\n",
       "    .dataframe tbody tr th {\n",
       "        vertical-align: top;\n",
       "    }\n",
       "</style>\n",
       "<table border=\"1\" class=\"dataframe\">\n",
       "  <thead>\n",
       "    <tr style=\"text-align: right;\">\n",
       "      <th></th>\n",
       "      <th>100</th>\n",
       "      <th>100.1</th>\n",
       "      <th>100.2</th>\n",
       "      <th>100.3</th>\n",
       "      <th>100.4</th>\n",
       "      <th>100.5</th>\n",
       "      <th>100.6</th>\n",
       "      <th>100.7</th>\n",
       "      <th>100.8</th>\n",
       "      <th>100.9</th>\n",
       "      <th>...</th>\n",
       "      <th>100.932</th>\n",
       "      <th>100.933</th>\n",
       "      <th>100.934</th>\n",
       "      <th>100.935</th>\n",
       "      <th>100.936</th>\n",
       "      <th>100.937</th>\n",
       "      <th>100.938</th>\n",
       "      <th>100.939</th>\n",
       "      <th>100.940</th>\n",
       "      <th>100.941</th>\n",
       "    </tr>\n",
       "  </thead>\n",
       "  <tbody>\n",
       "    <tr>\n",
       "      <th>0</th>\n",
       "      <td>100</td>\n",
       "      <td>100</td>\n",
       "      <td>100</td>\n",
       "      <td>100</td>\n",
       "      <td>100</td>\n",
       "      <td>100</td>\n",
       "      <td>100</td>\n",
       "      <td>100</td>\n",
       "      <td>100</td>\n",
       "      <td>100</td>\n",
       "      <td>...</td>\n",
       "      <td>100</td>\n",
       "      <td>100</td>\n",
       "      <td>100</td>\n",
       "      <td>100</td>\n",
       "      <td>100</td>\n",
       "      <td>100</td>\n",
       "      <td>100</td>\n",
       "      <td>100</td>\n",
       "      <td>100</td>\n",
       "      <td>100</td>\n",
       "    </tr>\n",
       "    <tr>\n",
       "      <th>1</th>\n",
       "      <td>100</td>\n",
       "      <td>100</td>\n",
       "      <td>100</td>\n",
       "      <td>100</td>\n",
       "      <td>100</td>\n",
       "      <td>100</td>\n",
       "      <td>100</td>\n",
       "      <td>100</td>\n",
       "      <td>100</td>\n",
       "      <td>100</td>\n",
       "      <td>...</td>\n",
       "      <td>100</td>\n",
       "      <td>100</td>\n",
       "      <td>100</td>\n",
       "      <td>100</td>\n",
       "      <td>100</td>\n",
       "      <td>100</td>\n",
       "      <td>100</td>\n",
       "      <td>100</td>\n",
       "      <td>100</td>\n",
       "      <td>100</td>\n",
       "    </tr>\n",
       "    <tr>\n",
       "      <th>2</th>\n",
       "      <td>100</td>\n",
       "      <td>100</td>\n",
       "      <td>100</td>\n",
       "      <td>100</td>\n",
       "      <td>100</td>\n",
       "      <td>100</td>\n",
       "      <td>100</td>\n",
       "      <td>100</td>\n",
       "      <td>100</td>\n",
       "      <td>100</td>\n",
       "      <td>...</td>\n",
       "      <td>100</td>\n",
       "      <td>100</td>\n",
       "      <td>100</td>\n",
       "      <td>100</td>\n",
       "      <td>100</td>\n",
       "      <td>100</td>\n",
       "      <td>100</td>\n",
       "      <td>100</td>\n",
       "      <td>100</td>\n",
       "      <td>100</td>\n",
       "    </tr>\n",
       "    <tr>\n",
       "      <th>3</th>\n",
       "      <td>100</td>\n",
       "      <td>100</td>\n",
       "      <td>100</td>\n",
       "      <td>100</td>\n",
       "      <td>100</td>\n",
       "      <td>100</td>\n",
       "      <td>100</td>\n",
       "      <td>100</td>\n",
       "      <td>100</td>\n",
       "      <td>100</td>\n",
       "      <td>...</td>\n",
       "      <td>100</td>\n",
       "      <td>100</td>\n",
       "      <td>100</td>\n",
       "      <td>100</td>\n",
       "      <td>100</td>\n",
       "      <td>100</td>\n",
       "      <td>100</td>\n",
       "      <td>100</td>\n",
       "      <td>100</td>\n",
       "      <td>100</td>\n",
       "    </tr>\n",
       "    <tr>\n",
       "      <th>4</th>\n",
       "      <td>100</td>\n",
       "      <td>100</td>\n",
       "      <td>100</td>\n",
       "      <td>100</td>\n",
       "      <td>100</td>\n",
       "      <td>100</td>\n",
       "      <td>100</td>\n",
       "      <td>100</td>\n",
       "      <td>100</td>\n",
       "      <td>100</td>\n",
       "      <td>...</td>\n",
       "      <td>100</td>\n",
       "      <td>100</td>\n",
       "      <td>100</td>\n",
       "      <td>100</td>\n",
       "      <td>100</td>\n",
       "      <td>100</td>\n",
       "      <td>100</td>\n",
       "      <td>100</td>\n",
       "      <td>100</td>\n",
       "      <td>100</td>\n",
       "    </tr>\n",
       "  </tbody>\n",
       "</table>\n",
       "<p>5 rows × 992 columns</p>\n",
       "</div>"
      ],
      "text/plain": [
       "   100  100.1  100.2  100.3  100.4  100.5  100.6  100.7  100.8  100.9  \\\n",
       "0  100    100    100    100    100    100    100    100    100    100   \n",
       "1  100    100    100    100    100    100    100    100    100    100   \n",
       "2  100    100    100    100    100    100    100    100    100    100   \n",
       "3  100    100    100    100    100    100    100    100    100    100   \n",
       "4  100    100    100    100    100    100    100    100    100    100   \n",
       "\n",
       "    ...     100.932  100.933  100.934  100.935  100.936  100.937  100.938  \\\n",
       "0   ...         100      100      100      100      100      100      100   \n",
       "1   ...         100      100      100      100      100      100      100   \n",
       "2   ...         100      100      100      100      100      100      100   \n",
       "3   ...         100      100      100      100      100      100      100   \n",
       "4   ...         100      100      100      100      100      100      100   \n",
       "\n",
       "   100.939  100.940  100.941  \n",
       "0      100      100      100  \n",
       "1      100      100      100  \n",
       "2      100      100      100  \n",
       "3      100      100      100  \n",
       "4      100      100      100  \n",
       "\n",
       "[5 rows x 992 columns]"
      ]
     },
     "execution_count": 18,
     "metadata": {},
     "output_type": "execute_result"
    }
   ],
   "source": [
    "train_rss.head()"
   ]
  },
  {
   "cell_type": "code",
   "execution_count": 29,
   "metadata": {},
   "outputs": [
    {
     "data": {
      "text/plain": [
       "array([[100, 100, 100, ..., 100, 100, 100],\n",
       "       [100, 100, 100, ..., 100, 100, 100],\n",
       "       [100, 100, 100, ..., 100, 100, 100],\n",
       "       [100, 100, 100, ..., 100, 100, 100]], dtype=int64)"
      ]
     },
     "execution_count": 29,
     "metadata": {},
     "output_type": "execute_result"
    }
   ],
   "source": [
    "# train_rss_1 = train_rss[train_rss != 100]\n",
    "# train_rss_1.head()\n",
    "train_r = train_rss.values"
   ]
  },
  {
   "cell_type": "code",
   "execution_count": 25,
   "metadata": {
    "scrolled": true
   },
   "outputs": [],
   "source": [
    "train_c = train_coord.values\n",
    "\n",
    "# test_rss_1 = test_rss[test_rss != 100]\n",
    "test_rs = test_rss.values\n",
    "test_r = test_rs[:,0:1000]\n",
    "\n",
    "test_co = test_coord.values\n",
    "test_c = test_co[:,0:1000]"
   ]
  },
  {
   "cell_type": "code",
   "execution_count": 26,
   "metadata": {},
   "outputs": [],
   "source": [
    "def accuracy(predictions, labels):\n",
    "    return np.mean(np.sqrt(np.sum((predictions - labels)**2, 1)))"
   ]
  },
  {
   "cell_type": "code",
   "execution_count": 32,
   "metadata": {},
   "outputs": [
    {
     "name": "stdout",
     "output_type": "stream",
     "text": [
      "accuracy:  17.0201651691 m\n"
     ]
    }
   ],
   "source": [
    "# KNN\n",
    "from sklearn import neighbors\n",
    "knn_reg = neighbors.KNeighborsRegressor(40, weights='uniform', metric='euclidean')\n",
    "predictions = knn_reg.fit(train_r, train_c).predict(test_rs)\n",
    "acc = accuracy(predictions, test_co)\n",
    "print(\"accuracy: \", acc, \"m\")"
   ]
  },
  {
   "cell_type": "code",
   "execution_count": 31,
   "metadata": {},
   "outputs": [
    {
     "name": "stdout",
     "output_type": "stream",
     "text": [
      "Wall time: 611 ms\n",
      "Wall time: 573 ms\n",
      "Wall time: 574 ms\n",
      "Wall time: 3.01 s\n",
      "Wall time: 3.05 s\n",
      "Wall time: 2.98 s\n",
      "accuracy:  0.328879957038 m\n"
     ]
    }
   ],
   "source": [
    "# SVM\n",
    "from sklearn import svm\n",
    "clf_x = svm.SVR(C=1000, gamma=0.01)\n",
    "clf_y = svm.SVR(C=1000, gamma=0.01)\n",
    "clf_h = svm.SVR(C=1000, gamma=0.01)\n",
    "%time clf_x.fit(train_r, train_c[:, 0])\n",
    "%time clf_y.fit(train_r, train_c[:, 1])\n",
    "%time clf_h.fit(train_r, train_c[:, 2])\n",
    "%time x = clf_x.predict(test_rs)\n",
    "%time y = clf_y.predict(test_rs)\n",
    "%time h = clf_h.predict(test_rs)\n",
    "predictions = np.column_stack((x, y, h))\n",
    "acc = accuracy(predictions, test_co)\n",
    "print(\"accuracy: \", acc/100, \"m\")"
   ]
  },
  {
   "cell_type": "code",
   "execution_count": 34,
   "metadata": {},
   "outputs": [
    {
     "name": "stdout",
     "output_type": "stream",
     "text": [
      "Wall time: 1.32 s\n",
      "Wall time: 79.8 ms\n",
      "accuracy:  16.776421042 m\n"
     ]
    }
   ],
   "source": [
    "from sklearn.neural_network import MLPRegressor\n",
    "clf = MLPRegressor(hidden_layer_sizes=(100, 100))\n",
    "%time clf.fit(train_r, train_c)\n",
    "%time predictions = clf.predict(test_rs)\n",
    "acc = accuracy(predictions, test_co)\n",
    "print(\"accuracy: \", acc, \"m\")\n"
   ]
  },
  {
   "cell_type": "code",
   "execution_count": null,
   "metadata": {},
   "outputs": [],
   "source": []
  }
 ],
 "metadata": {
  "kernelspec": {
   "display_name": "Python 3",
   "language": "python",
   "name": "python3"
  },
  "language_info": {
   "codemirror_mode": {
    "name": "ipython",
    "version": 3
   },
   "file_extension": ".py",
   "mimetype": "text/x-python",
   "name": "python",
   "nbconvert_exporter": "python",
   "pygments_lexer": "ipython3",
   "version": "3.6.2"
  }
 },
 "nbformat": 4,
 "nbformat_minor": 2
}
