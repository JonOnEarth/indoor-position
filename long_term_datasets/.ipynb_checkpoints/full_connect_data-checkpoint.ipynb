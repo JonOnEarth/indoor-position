{
 "cells": [
  {
   "cell_type": "code",
   "execution_count": null,
   "metadata": {},
   "outputs": [],
   "source": [
    "# this full connected deep learning model is no difference from the short-term-data's model"
   ]
  },
  {
   "cell_type": "code",
   "execution_count": 39,
   "metadata": {},
   "outputs": [],
   "source": [
    "import pandas as pd\n",
    "import numpy as np\n",
    "\n",
    "path = 'C:/software/WinPython/notebooks/indoor position/long_term_datasets'\n",
    "train_rss = pd.read_csv(path + '/train_rss.csv',header  = None)\n",
    "train_coord = pd.read_csv(path + '/train_coords.csv', header  = None)\n",
    "\n",
    "test_rss = pd.read_csv(path + '/test_rss.csv',header  = None)\n",
    "test_coord = pd.read_csv(path + '/test_coords.csv',header  = None)\n"
   ]
  },
  {
   "cell_type": "code",
   "execution_count": 40,
   "metadata": {},
   "outputs": [
    {
     "name": "stdout",
     "output_type": "stream",
     "text": [
      "(16704, 448)\n",
      "(46800, 448)\n"
     ]
    }
   ],
   "source": [
    "print(train_rss.shape)\n",
    "print(test_rss.shape)"
   ]
  },
  {
   "cell_type": "code",
   "execution_count": 41,
   "metadata": {},
   "outputs": [
    {
     "name": "stdout",
     "output_type": "stream",
     "text": [
      "[[-90.    -62.    -69.    ...,  12.904  29.208   3.   ]\n",
      " [-93.    -65.    -67.    ...,  12.904  29.208   3.   ]\n",
      " [-88.    -64.    -68.    ...,  12.904  29.208   3.   ]\n",
      " ..., \n",
      " [  0.      0.      0.    ...,  12.904  29.208   5.   ]\n",
      " [  0.      0.      0.    ...,  12.904  29.208   5.   ]\n",
      " [  0.      0.      0.    ...,  12.904  29.208   5.   ]]\n"
     ]
    }
   ],
   "source": [
    "\n",
    "train = pd.concat([train_rss, train_coord], axis=1, ignore_index=True)\n",
    "test = pd.concat([test_rss, test_coord], axis=1, ignore_index=True)\n",
    "train_replace = train.replace(100,0)\n",
    "train_ar = train_replace.values\n",
    "test_replace = test.replace(100,0)\n",
    "test_ar = test_replace.values\n",
    "print(train_ar)"
   ]
  },
  {
   "cell_type": "code",
   "execution_count": 42,
   "metadata": {},
   "outputs": [],
   "source": [
    "train3=train_ar[train_ar[:,-1]==3]\n",
    "train3_rss = train3[:, 0:448]\n",
    "train3_coord = train3[:,448:450]\n",
    "\n",
    "test3=test_ar[test_ar[:,-1]==3]\n",
    "test3_rss = test3[0:5000, 0:448]\n",
    "test3_coord = test3[0:5000, 448:450]\n",
    "\n",
    "\n",
    "train5 = train_ar[train_ar[:,-1]==5]\n",
    "train5_rss = train5[:, 0:448]\n",
    "train5_coord = train5[:, 448:450]\n",
    "\n",
    "test5=test_ar[test_ar[:,-1]==5]\n",
    "test5_rss = test5[0:5000, 0:448]\n",
    "test5_coord = test5[0:5000, 448:450]"
   ]
  },
  {
   "cell_type": "code",
   "execution_count": 43,
   "metadata": {},
   "outputs": [
    {
     "name": "stdout",
     "output_type": "stream",
     "text": [
      "[[-87. -54. -57. ...,   0.   0.   0.]\n",
      " [  0. -54. -55. ...,   0.   0.   0.]\n",
      " [-88. -52. -56. ...,   0.   0.   0.]\n",
      " ..., \n",
      " [  0. -62. -66. ...,   0.   0.   0.]\n",
      " [  0. -64. -62. ...,   0.   0.   0.]\n",
      " [  0. -61. -61. ...,   0.   0.   0.]] [[ 12.904   29.208 ]\n",
      " [ 12.904   29.208 ]\n",
      " [ 12.904   29.208 ]\n",
      " ..., \n",
      " [  9.5149  27.419 ]\n",
      " [  5.1254  27.419 ]\n",
      " [  5.1254  27.419 ]]\n",
      "(8352, 448)\n"
     ]
    }
   ],
   "source": [
    "print(test3_rss, test3_coord)\n",
    "print(train5_rss.shape)"
   ]
  },
  {
   "cell_type": "code",
   "execution_count": 44,
   "metadata": {},
   "outputs": [],
   "source": [
    "import pandas as pd\n",
    "import numpy as np\n",
    "from sklearn.preprocessing import scale\n",
    "from sklearn import preprocessing\n",
    "import keras\n",
    "from keras.models import Sequential\n",
    "from keras.layers import Dense, Dropout, Activation\n",
    "from keras.optimizers import SGD, RMSprop, Adadelta, Adam\n",
    "import matplotlib.pyplot as plt\n",
    "from keras import regularizers\n",
    "import sklearn\n",
    "from sklearn import svm\n",
    "from sklearn import preprocessing\n",
    "from sklearn.cluster import KMeans\n",
    "from sklearn.model_selection import train_test_split\n",
    "\n",
    "from keras.layers import Conv1D, Dense, MaxPooling1D, Flatten, Input\n",
    "\n",
    "def predata(rss, locations):\n",
    "    # the origin of the room\n",
    "    origin = np.amin(locations,axis=0)\n",
    "    #size of the room\n",
    "    room_size = np.amax(locations, axis=0)-origin\n",
    "    # position respect to origin\n",
    "    train_Yy = locations - origin\n",
    "    train_Xx = np.asarray(rss, dtype=np.float64) \n",
    "    return train_Xx, train_Yy"
   ]
  },
  {
   "cell_type": "code",
   "execution_count": 45,
   "metadata": {},
   "outputs": [],
   "source": [
    "def train_val(rss, locations):\n",
    "    train_Xx, train_Yy = predata(rss, locations)\n",
    "    train_x, val_x, train_y, val_y = train_test_split(train_Xx, train_Yy, test_size=0.25)\n",
    "    return train_x, val_x, train_y, val_y"
   ]
  },
  {
   "cell_type": "code",
   "execution_count": 46,
   "metadata": {},
   "outputs": [],
   "source": [
    "def accuracy(predictions, labels):\n",
    "    error = np.sqrt(np.sum((predictions - labels)**2, 1))\n",
    "    return error, np.mean(error)"
   ]
  },
  {
   "cell_type": "code",
   "execution_count": 47,
   "metadata": {},
   "outputs": [],
   "source": [
    "\n",
    "def train_model(rss, locations, test_rss, test_locations):\n",
    "    # get train_X, val_X, train_Y, val_Y\n",
    "    train_X, val_X, train_Y, val_Y = train_val(rss, locations)\n",
    "    test_X, test_Y = predata(test_rss, test_locations)\n",
    "    \n",
    "    # parameters\n",
    "    num_input = train_X.shape[1]# input layer size\n",
    "    act_fun = 'relu'\n",
    "    regularzation_penalty = 0.03\n",
    "    initilization_method = 'he_normal' #'random_uniform' ,'random_normal','TruncatedNormal' ,'glorot_uniform', 'glorot_nomral', 'he_normal', 'he_uniform'\n",
    "    #Optimizer\n",
    "    adam = Adam(lr=0.0005, beta_1=0.9, beta_2=0.999, epsilon=1e-08, decay=0.0)\n",
    "    \n",
    "    # define model\n",
    "\n",
    "    model = Sequential()\n",
    "    model.add(Dense(128, activation=act_fun, input_dim=num_input, kernel_initializer=initilization_method ,kernel_regularizer=regularizers.l2(regularzation_penalty)))\n",
    "    model.add(Dropout(0.5))\n",
    "    model.add(Dense(64, activation=act_fun, kernel_initializer=initilization_method ,kernel_regularizer=regularizers.l2(regularzation_penalty)))\n",
    "    model.add(Dropout(0.5))\n",
    "#     model.add(Dense(128, activation=act_fun, kernel_initializer=initilization_method ,kernel_regularizer=regularizers.l2(regularzation_penalty)))\n",
    "#     model.add(Dropout(0.5))\n",
    "    model.add(Dense(2, activation='linear', kernel_initializer=initilization_method ,kernel_regularizer=regularizers.l2(regularzation_penalty)))\n",
    "\n",
    "    #Model compile\n",
    "    model.compile(loss='mean_squared_error',\n",
    "                  optimizer=adam)\n",
    "    earlyStopping=keras.callbacks.EarlyStopping(monitor='val_loss', patience=60, verbose=0, mode='auto')\n",
    "    model.fit(train_X, train_Y,\n",
    "              epochs=100,\n",
    "              batch_size=64,callbacks=[earlyStopping],validation_data=(val_X, val_Y))#tbCallBack,\n",
    "    #model evaluate\n",
    "    train_loss = model.evaluate(train_X,train_Y, batch_size=len(train_Y)) #calculate the data in test mode(Keras)\n",
    "    val_loss = model.evaluate(val_X, val_Y, batch_size=len(val_Y))\n",
    "    test_loss = model.evaluate(test_X, test_Y, batch_size=len(test_Y))\n",
    "    print(\"Loss for training data is\",train_loss)\n",
    "    print(\"Loss for validation data is\",val_loss)\n",
    "    print(\"Loss for test data is\",test_loss)\n",
    "    predict_Y = model.predict(test_X)\n",
    "    error_t, accuracy_t = accuracy(predict_Y, test_Y)\n",
    "    return predict_Y, error_t, accuracy_t"
   ]
  },
  {
   "cell_type": "code",
   "execution_count": 52,
   "metadata": {
    "scrolled": true
   },
   "outputs": [
    {
     "name": "stdout",
     "output_type": "stream",
     "text": [
      "Train on 6264 samples, validate on 2088 samples\n",
      "Epoch 1/100\n",
      "6264/6264 [==============================] - 0s - loss: 194.1658 - val_loss: 27.8117\n",
      "Epoch 2/100\n",
      "6264/6264 [==============================] - 0s - loss: 52.9678 - val_loss: 24.5952\n",
      "Epoch 3/100\n",
      "6264/6264 [==============================] - 0s - loss: 34.8002 - val_loss: 23.3429\n",
      "Epoch 4/100\n",
      "6264/6264 [==============================] - 0s - loss: 29.0777 - val_loss: 21.2888\n",
      "Epoch 5/100\n",
      "6264/6264 [==============================] - 0s - loss: 24.9774 - val_loss: 19.5265\n",
      "Epoch 6/100\n",
      "6264/6264 [==============================] - 0s - loss: 23.0734 - val_loss: 20.2018\n",
      "Epoch 7/100\n",
      "6264/6264 [==============================] - 0s - loss: 21.3448 - val_loss: 18.3024\n",
      "Epoch 8/100\n",
      "6264/6264 [==============================] - 0s - loss: 20.2751 - val_loss: 18.0328\n",
      "Epoch 9/100\n",
      "6264/6264 [==============================] - 0s - loss: 19.1352 - val_loss: 16.8172\n",
      "Epoch 10/100\n",
      "6264/6264 [==============================] - 0s - loss: 18.1646 - val_loss: 16.8119\n",
      "Epoch 11/100\n",
      "6264/6264 [==============================] - 0s - loss: 17.4464 - val_loss: 15.8193\n",
      "Epoch 12/100\n",
      "6264/6264 [==============================] - 0s - loss: 16.8713 - val_loss: 15.6287\n",
      "Epoch 13/100\n",
      "6264/6264 [==============================] - 0s - loss: 16.5939 - val_loss: 15.1436\n",
      "Epoch 14/100\n",
      "6264/6264 [==============================] - 0s - loss: 15.9260 - val_loss: 14.6321\n",
      "Epoch 15/100\n",
      "6264/6264 [==============================] - 0s - loss: 15.4753 - val_loss: 13.2025\n",
      "Epoch 16/100\n",
      "6264/6264 [==============================] - 0s - loss: 15.1891 - val_loss: 14.0274\n",
      "Epoch 17/100\n",
      "6264/6264 [==============================] - 0s - loss: 14.8320 - val_loss: 13.8845\n",
      "Epoch 18/100\n",
      "6264/6264 [==============================] - 0s - loss: 14.5610 - val_loss: 13.1930\n",
      "Epoch 19/100\n",
      "6264/6264 [==============================] - 0s - loss: 14.3106 - val_loss: 13.2219\n",
      "Epoch 20/100\n",
      "6264/6264 [==============================] - 0s - loss: 13.8586 - val_loss: 12.2359\n",
      "Epoch 21/100\n",
      "6264/6264 [==============================] - 0s - loss: 13.6551 - val_loss: 12.1142\n",
      "Epoch 22/100\n",
      "6264/6264 [==============================] - 0s - loss: 13.3182 - val_loss: 12.2537\n",
      "Epoch 23/100\n",
      "6264/6264 [==============================] - 0s - loss: 13.1095 - val_loss: 12.2905\n",
      "Epoch 24/100\n",
      "6264/6264 [==============================] - 0s - loss: 12.8842 - val_loss: 11.7252\n",
      "Epoch 25/100\n",
      "6264/6264 [==============================] - 0s - loss: 12.5030 - val_loss: 11.7799\n",
      "Epoch 26/100\n",
      "6264/6264 [==============================] - 0s - loss: 12.2739 - val_loss: 11.2516\n",
      "Epoch 27/100\n",
      "6264/6264 [==============================] - 0s - loss: 12.3502 - val_loss: 10.9041\n",
      "Epoch 28/100\n",
      "6264/6264 [==============================] - 0s - loss: 11.9665 - val_loss: 10.3752\n",
      "Epoch 29/100\n",
      "6264/6264 [==============================] - 0s - loss: 11.9253 - val_loss: 11.0053\n",
      "Epoch 30/100\n",
      "6264/6264 [==============================] - 0s - loss: 11.7260 - val_loss: 10.0265\n",
      "Epoch 31/100\n",
      "6264/6264 [==============================] - 0s - loss: 11.4632 - val_loss: 10.6889\n",
      "Epoch 32/100\n",
      "6264/6264 [==============================] - 0s - loss: 11.2239 - val_loss: 9.9404\n",
      "Epoch 33/100\n",
      "6264/6264 [==============================] - 0s - loss: 11.1260 - val_loss: 10.1819\n",
      "Epoch 34/100\n",
      "6264/6264 [==============================] - 0s - loss: 11.0611 - val_loss: 9.9490\n",
      "Epoch 35/100\n",
      "6264/6264 [==============================] - 0s - loss: 10.7918 - val_loss: 9.6991\n",
      "Epoch 36/100\n",
      "6264/6264 [==============================] - 0s - loss: 10.6260 - val_loss: 9.6771\n",
      "Epoch 37/100\n",
      "6264/6264 [==============================] - 0s - loss: 10.4815 - val_loss: 9.5854\n",
      "Epoch 38/100\n",
      "6264/6264 [==============================] - 0s - loss: 10.3178 - val_loss: 9.2972\n",
      "Epoch 39/100\n",
      "6264/6264 [==============================] - 0s - loss: 10.1317 - val_loss: 8.9968\n",
      "Epoch 40/100\n",
      "6264/6264 [==============================] - 0s - loss: 9.8558 - val_loss: 8.8741\n",
      "Epoch 41/100\n",
      "6264/6264 [==============================] - 0s - loss: 9.8681 - val_loss: 8.3469\n",
      "Epoch 42/100\n",
      "6264/6264 [==============================] - 0s - loss: 9.6369 - val_loss: 8.0404\n",
      "Epoch 43/100\n",
      "6264/6264 [==============================] - 0s - loss: 9.5376 - val_loss: 8.0777\n",
      "Epoch 44/100\n",
      "6264/6264 [==============================] - 0s - loss: 9.2274 - val_loss: 8.3407\n",
      "Epoch 45/100\n",
      "6264/6264 [==============================] - 0s - loss: 9.2568 - val_loss: 8.3841\n",
      "Epoch 46/100\n",
      "6264/6264 [==============================] - 0s - loss: 9.1695 - val_loss: 7.9412\n",
      "Epoch 47/100\n",
      "6264/6264 [==============================] - 0s - loss: 8.9334 - val_loss: 7.3816\n",
      "Epoch 48/100\n",
      "6264/6264 [==============================] - 0s - loss: 8.8185 - val_loss: 7.4667\n",
      "Epoch 49/100\n",
      "6264/6264 [==============================] - 0s - loss: 8.8158 - val_loss: 8.1105\n",
      "Epoch 50/100\n",
      "6264/6264 [==============================] - 0s - loss: 8.6390 - val_loss: 7.1767\n",
      "Epoch 51/100\n",
      "6264/6264 [==============================] - 0s - loss: 8.4304 - val_loss: 7.0523\n",
      "Epoch 52/100\n",
      "6264/6264 [==============================] - 0s - loss: 8.3146 - val_loss: 6.3588\n",
      "Epoch 53/100\n",
      "6264/6264 [==============================] - 0s - loss: 8.1451 - val_loss: 6.7414\n",
      "Epoch 54/100\n",
      "6264/6264 [==============================] - 0s - loss: 8.1540 - val_loss: 7.2392\n",
      "Epoch 55/100\n",
      "6264/6264 [==============================] - 0s - loss: 7.9382 - val_loss: 7.0569\n",
      "Epoch 56/100\n",
      "6264/6264 [==============================] - 0s - loss: 7.9120 - val_loss: 6.5233\n",
      "Epoch 57/100\n",
      "6264/6264 [==============================] - 0s - loss: 7.7253 - val_loss: 6.6346\n",
      "Epoch 58/100\n",
      "6264/6264 [==============================] - 0s - loss: 7.6995 - val_loss: 6.6127\n",
      "Epoch 59/100\n",
      "6264/6264 [==============================] - 0s - loss: 7.5492 - val_loss: 6.8166\n",
      "Epoch 60/100\n",
      "6264/6264 [==============================] - 0s - loss: 7.4476 - val_loss: 5.9128\n",
      "Epoch 61/100\n",
      "6264/6264 [==============================] - 0s - loss: 7.2790 - val_loss: 6.3839\n",
      "Epoch 62/100\n",
      "6264/6264 [==============================] - 0s - loss: 7.2025 - val_loss: 5.9432\n",
      "Epoch 63/100\n",
      "6264/6264 [==============================] - 0s - loss: 7.0850 - val_loss: 6.0715\n",
      "Epoch 64/100\n",
      "6264/6264 [==============================] - 0s - loss: 7.0910 - val_loss: 5.9727\n",
      "Epoch 65/100\n",
      "6264/6264 [==============================] - 0s - loss: 6.9708 - val_loss: 5.6566\n",
      "Epoch 66/100\n",
      "6264/6264 [==============================] - 0s - loss: 6.8167 - val_loss: 5.6165\n",
      "Epoch 67/100\n",
      "6264/6264 [==============================] - 0s - loss: 6.8478 - val_loss: 5.3988\n",
      "Epoch 68/100\n",
      "6264/6264 [==============================] - 0s - loss: 6.7375 - val_loss: 5.8304\n",
      "Epoch 69/100\n",
      "6264/6264 [==============================] - 0s - loss: 6.5245 - val_loss: 5.6203\n",
      "Epoch 70/100\n",
      "6264/6264 [==============================] - 0s - loss: 6.5262 - val_loss: 5.4700\n",
      "Epoch 71/100\n",
      "6264/6264 [==============================] - 0s - loss: 6.4023 - val_loss: 5.0198\n",
      "Epoch 72/100\n",
      "6264/6264 [==============================] - 0s - loss: 6.3472 - val_loss: 5.3060\n",
      "Epoch 73/100\n",
      "6264/6264 [==============================] - 0s - loss: 6.3255 - val_loss: 5.0221\n",
      "Epoch 74/100\n",
      "6264/6264 [==============================] - 0s - loss: 6.1245 - val_loss: 4.9883\n",
      "Epoch 75/100\n",
      "6264/6264 [==============================] - 0s - loss: 6.0710 - val_loss: 5.1579\n",
      "Epoch 76/100\n",
      "6264/6264 [==============================] - 0s - loss: 5.9823 - val_loss: 4.8805\n",
      "Epoch 77/100\n",
      "6264/6264 [==============================] - 0s - loss: 5.9885 - val_loss: 4.9383\n",
      "Epoch 78/100\n",
      "6264/6264 [==============================] - 0s - loss: 5.9339 - val_loss: 4.7218\n",
      "Epoch 79/100\n",
      "6264/6264 [==============================] - 0s - loss: 5.8243 - val_loss: 4.6294\n",
      "Epoch 80/100\n",
      "6264/6264 [==============================] - 0s - loss: 5.8349 - val_loss: 5.1729\n",
      "Epoch 81/100\n",
      "6264/6264 [==============================] - 0s - loss: 5.7498 - val_loss: 4.5498\n",
      "Epoch 82/100\n",
      "6264/6264 [==============================] - 0s - loss: 5.6632 - val_loss: 4.9948\n",
      "Epoch 83/100\n",
      "6264/6264 [==============================] - 0s - loss: 5.7091 - val_loss: 4.6839\n",
      "Epoch 84/100\n",
      "6264/6264 [==============================] - 0s - loss: 5.6302 - val_loss: 4.7769\n",
      "Epoch 85/100\n",
      "6264/6264 [==============================] - 0s - loss: 5.3869 - val_loss: 4.6861\n",
      "Epoch 86/100\n"
     ]
    },
    {
     "name": "stdout",
     "output_type": "stream",
     "text": [
      "6264/6264 [==============================] - 0s - loss: 5.5821 - val_loss: 4.6284\n",
      "Epoch 87/100\n",
      "6264/6264 [==============================] - 0s - loss: 5.4087 - val_loss: 4.3749\n",
      "Epoch 88/100\n",
      "6264/6264 [==============================] - 0s - loss: 5.4063 - val_loss: 4.8602\n",
      "Epoch 89/100\n",
      "6264/6264 [==============================] - 0s - loss: 5.4360 - val_loss: 4.3189\n",
      "Epoch 90/100\n",
      "6264/6264 [==============================] - 0s - loss: 5.3037 - val_loss: 4.6819\n",
      "Epoch 91/100\n",
      "6264/6264 [==============================] - 0s - loss: 5.3377 - val_loss: 4.3749\n",
      "Epoch 92/100\n",
      "6264/6264 [==============================] - 0s - loss: 5.2732 - val_loss: 4.4165\n",
      "Epoch 93/100\n",
      "6264/6264 [==============================] - 0s - loss: 5.1764 - val_loss: 4.1866\n",
      "Epoch 94/100\n",
      "6264/6264 [==============================] - 0s - loss: 5.1634 - val_loss: 4.2528\n",
      "Epoch 95/100\n",
      "6264/6264 [==============================] - 0s - loss: 5.1797 - val_loss: 4.3028\n",
      "Epoch 96/100\n",
      "6264/6264 [==============================] - 0s - loss: 5.2019 - val_loss: 4.1813\n",
      "Epoch 97/100\n",
      "6264/6264 [==============================] - 0s - loss: 5.1254 - val_loss: 4.1296\n",
      "Epoch 98/100\n",
      "6264/6264 [==============================] - 0s - loss: 5.0836 - val_loss: 4.1393\n",
      "Epoch 99/100\n",
      "6264/6264 [==============================] - 0s - loss: 5.1101 - val_loss: 4.3182\n",
      "Epoch 100/100\n",
      "6264/6264 [==============================] - 0s - loss: 4.9715 - val_loss: 4.4452\n",
      "6264/6264 [==============================] - 0s\n",
      "2088/2088 [==============================] - 0s\n",
      "5000/5000 [==============================] - 0s\n",
      "Loss for training data is 3.714189291\n",
      "Loss for validation data is 4.44521951675\n",
      "Loss for test data is 6.88192844391\n"
     ]
    }
   ],
   "source": [
    "predict5, error5, accuracy5 = train_model(train5_rss, train5_coord, test5_rss, test5_coord)"
   ]
  },
  {
   "cell_type": "code",
   "execution_count": 49,
   "metadata": {},
   "outputs": [
    {
     "name": "stdout",
     "output_type": "stream",
     "text": [
      "The average error: 3.30178222565\n"
     ]
    }
   ],
   "source": [
    "print('The average error:', accuracy5)"
   ]
  },
  {
   "cell_type": "code",
   "execution_count": 50,
   "metadata": {},
   "outputs": [
    {
     "name": "stdout",
     "output_type": "stream",
     "text": [
      "minimum error: 0.0343681916991 maximum error: 9.24152428984 variance: 2.75592794414 75%: 4.4298916034\n"
     ]
    }
   ],
   "source": [
    "print('minimum error:', np.amin(error5), 'maximum error:', np.amax(error5), 'variance:', \n",
    "      np.var(error5), \"75%:\", np.percentile(error5, 75))"
   ]
  },
  {
   "cell_type": "code",
   "execution_count": 51,
   "metadata": {},
   "outputs": [
    {
     "data": {
      "image/png": "[encoded data removed]",
      "text/plain": [
       "<matplotlib.figure.Figure at 0x211111dbc88>"
      ]
     },
     "metadata": {},
     "output_type": "display_data"
    }
   ],
   "source": [
    "error_sorted= np.sort(error5)\n",
    "p = 1. *np.arange(len(error5))/(len(error5)-1)\n",
    "plt.plot(error_sorted, p)\n",
    "plt.show()"
   ]
  },
  {
   "cell_type": "code",
   "execution_count": 56,
   "metadata": {},
   "outputs": [],
   "source": [
    "x = np.arange(129*4)\n",
    "\n",
    "x = x.reshape(129, 4)\n"
   ]
  },
  {
   "cell_type": "code",
   "execution_count": 57,
   "metadata": {},
   "outputs": [
    {
     "name": "stdout",
     "output_type": "stream",
     "text": [
      "(6, 4)\n",
      "(3, 4)\n"
     ]
    }
   ],
   "source": [
    "a = np.vsplit(x, np.arange(6, 129, 6))\n",
    "print(a[0].shape)\n",
    "\n",
    "print(a[-1].shape)\n"
   ]
  },
  {
   "cell_type": "code",
   "execution_count": 55,
   "metadata": {},
   "outputs": [
    {
     "name": "stdout",
     "output_type": "stream",
     "text": [
      "(4, 12)\n"
     ]
    }
   ],
   "source": [
    "print(a[1].shape[1:])"
   ]
  },
  {
   "cell_type": "code",
   "execution_count": null,
   "metadata": {},
   "outputs": [],
   "source": []
  }
 ],
 "metadata": {
  "kernelspec": {
   "display_name": "Python 3",
   "language": "python",
   "name": "python3"
  },
  "language_info": {
   "codemirror_mode": {
    "name": "ipython",
    "version": 3
   },
   "file_extension": ".py",
   "mimetype": "text/x-python",
   "name": "python",
   "nbconvert_exporter": "python",
   "pygments_lexer": "ipython3",
   "version": "3.6.2"
  }
 },
 "nbformat": 4,
 "nbformat_minor": 2
}
